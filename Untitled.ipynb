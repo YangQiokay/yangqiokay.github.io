{
 "cells": [
  {
   "cell_type": "code",
   "execution_count": 5,
   "metadata": {
    "scrolled": true
   },
   "outputs": [
    {
     "name": "stdout",
     "output_type": "stream",
     "text": [
      "./.DS_Store\n",
      "./index.md\n",
      "./images/.DS_Store\n",
      "./ml-无监督/.DS_Store\n",
      "./ml-无监督/机器学习-无监督学习.md\n",
      "./ml-无监督/机器学习-自监督学习.md\n",
      "./ml-无监督/聚类/聚类-GMM-EM.md\n",
      "./ml-无监督/聚类/.DS_Store\n",
      "./ml-无监督/聚类/聚类-分层层次.md\n",
      "./ml-无监督/聚类/聚类-Isodata.md\n",
      "./ml-无监督/聚类/聚类-kmeans++.md\n",
      "./ml-无监督/聚类/聚类-DBSCAN.md\n",
      "./ml-无监督/聚类/聚类-SOM-kmeans.md\n",
      "./ml-无监督/聚类/聚类-EM算法.md\n",
      "./ml-无监督/聚类/聚类-放射传播.md\n",
      "./ml-无监督/聚类/聚类.md\n",
      "./ml-无监督/聚类/聚类-GMM-Kmeans.md\n",
      "./ml-无监督/聚类/聚类-k均值.md\n",
      "./ml-无监督/聚类/聚类-SOM.md\n",
      "./ml-无监督/维度灾难/维度灾难-特征选取-相关性阈值.md\n",
      "./ml-无监督/维度灾难/维度灾难-特征选取-逐步搜索.md\n",
      "./ml-无监督/维度灾难/.DS_Store\n",
      "./ml-无监督/维度灾难/维度灾难-特征选取-遗传算法.md\n",
      "./ml-无监督/维度灾难/维度灾难-特征提取.md\n",
      "./ml-无监督/维度灾难/维度灾难.md\n",
      "./ml-无监督/维度灾难/维度灾难-特征选取.md\n",
      "./ml-无监督/维度灾难/维度灾难-特征提取-主成分分析.md\n",
      "./ml-无监督/维度灾难/维度灾难-特征提取-LDAPCA.md\n",
      "./ml-无监督/维度灾难/维度灾难-特征选取-方差阈值.md\n",
      "./ml-无监督/维度灾难/维度灾难-特征提取-自编码机.md\n",
      "./ml-无监督/维度灾难/维度灾难-特征提取-线性判别分析.md\n",
      "./ml-无监督/维度灾难/维度灾难-特征提取-降维算法.md\n",
      "./ml-无监督/异常检测/.DS_Store\n",
      "./ml-无监督/异常检测/异常检测-autoencoder.md\n",
      "./ml-无监督/异常检测/异常检测-iTree.md\n",
      "./ml-无监督/异常检测/AADE/异常检测-AADE-StreamingData.md\n",
      "./ml-无监督/异常检测/AADE/异常检测-ActiveLearning.md\n",
      "./ml-无监督/异常检测/AADE/异常检测-任务.md\n",
      "./ml-无监督/异常检测/AADE/异常检测-AADE-Tree-based.md\n",
      "./ml-无监督/异常检测/AADE/异常检测-AADE-ScoreFunction.md\n",
      "./ml-无监督/异常检测/AADE/异常检测-AADE-CompactDescription.md\n",
      "./ml-无监督/异常检测/AADE/异常检测-AADE.md\n",
      "./ml-无监督/异常检测/AADE/异常检测-任务-缺点.md\n",
      "./ml-无监督/异常检测/AADE/异常检测-可解释性.md\n",
      "./ml-无监督/异常检测/AADE/异常检测-AADE-ExplanationsFromSubspaces.md\n",
      "./ml-无监督/异常检测/AADE/异常检测-AADE-Diversity-based.md\n",
      "./ml-无监督/异常检测/AADE/异常检测-AADE-GLAD-FSS.md\n",
      "./ml-无监督/异常检测/AADE/异常检测-任务-挑战.md\n",
      "./ml-无监督/关联规则/关联规则-Apriori算法.md\n",
      "./北京/维度灾难.md\n"
     ]
    }
   ],
   "source": [
    "import os\n",
    "\n",
    "for root, dirs, files in os.walk('.'):\n",
    "    \n",
    "    for name in files:\n",
    "        if 'DS_Store' in os.path.join(root,name) or 'md' in os.path.join(root,name):\n",
    "            b = os.path.join(root,name)\n",
    "            print (b)\n",
    "#             if 'DS_Store' in b and len(b) != len('./.DS_Store') and 'images' not in b:\n",
    "#                 # 标题类型\n",
    "#                 c = b.split('/.')[0].split('./')[1]\n",
    "#                 print ('  '*(c.count('/')+1) + '- ' + str(c).replace('-','').replace('/','') + \": \")\n",
    "#             elif 'DS_Store' not in os.path.join(root,name) and 'md' in os.path.join(root,name) :\n",
    "#                 # md文件\n",
    "#                 d = os.path.join(root, name).split('./')[1]\n",
    "#                 print ('  '*(d.count('/')+1) + '- ' + str(d.split('/')[-1])[:-3].replace('-','') + \": \" + str(d))\n"
   ]
  },
  {
   "cell_type": "code",
   "execution_count": null,
   "metadata": {},
   "outputs": [],
   "source": []
  }
 ],
 "metadata": {
  "kernelspec": {
   "display_name": "Python 3",
   "language": "python",
   "name": "python3"
  },
  "language_info": {
   "codemirror_mode": {
    "name": "ipython",
    "version": 3
   },
   "file_extension": ".py",
   "mimetype": "text/x-python",
   "name": "python",
   "nbconvert_exporter": "python",
   "pygments_lexer": "ipython3",
   "version": "3.7.4"
  },
  "toc": {
   "base_numbering": 1,
   "nav_menu": {},
   "number_sections": true,
   "sideBar": true,
   "skip_h1_title": false,
   "title_cell": "Table of Contents",
   "title_sidebar": "Contents",
   "toc_cell": false,
   "toc_position": {},
   "toc_section_display": true,
   "toc_window_display": false
  }
 },
 "nbformat": 4,
 "nbformat_minor": 2
}
